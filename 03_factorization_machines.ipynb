{
 "cells": [
  {
   "cell_type": "markdown",
   "metadata": {},
   "source": [
    "# Movie recommendation on Amazon SageMaker with Factorization Machines"
   ]
  },
  {
   "cell_type": "markdown",
   "metadata": {},
   "source": [
    "### Background\n",
    "\n",
    "In many ways, recommender systems were a catalyst for the current popularity of machine learning.  One of Amazon's earliest successes was the \"Customers who bought this, also bought...\" feature, while the million dollar Netflix Prize spurred research, raised public awareness, and inspired numerous other data science competitions.\n",
    "\n",
    "Recommender systems can utilize a multitude of data sources and ML algorithms, and most combine various unsupervised, supervised, and reinforcement learning techniques into a holistic framework.  However, the core component is almost always a model which which predicts a user's rating (or purchase) for a certain item based on that user's historical ratings of similar items as well as the behavior of other similar users.\n",
    "\n",
    "Factorization Machines have shown themselves to be very effective at this task, and Amazon SageMaker includes an almost perfectly scalable implementation of a distributed Factorization Machine algorithm.  Today we'll use that to build a recommender system.  We'll start by bringing in and preparing our dataset, and then discuss the algorithm and training process, and finish by deploying to a real-time endpoint for generating predictions."
   ]
  },
  {
   "cell_type": "markdown",
   "metadata": {},
   "source": [
    "### Imports\n",
    "\n",
    "Let's start by importing our necessary modules here, to get it out of the way.  Also, update the s3 bucket, prefix, or IAM role as needed."
   ]
  },
  {
   "cell_type": "code",
   "execution_count": 1,
   "metadata": {},
   "outputs": [
    {
     "name": "stdout",
     "output_type": "stream",
     "text": [
      "Populating the interactive namespace from numpy and matplotlib\n"
     ]
    }
   ],
   "source": [
    "import sagemaker\n",
    "import sagemaker.amazon.common as smac\n",
    "from sagemaker.predictor import json_deserializer\n",
    "\n",
    "import boto3, csv, io, json\n",
    "import pandas as pd\n",
    "import matplotlib.pyplot as plt\n",
    "from scipy.sparse import lil_matrix\n",
    "\n",
    "%pylab inline"
   ]
  },
  {
   "cell_type": "markdown",
   "metadata": {},
   "source": [
    "### Defaults\n",
    "\n",
    "We will set a project name used to group Amazon SageMaker and Amazon S3 resources related to this specific notebook"
   ]
  },
  {
   "cell_type": "code",
   "execution_count": 2,
   "metadata": {},
   "outputs": [],
   "source": [
    "project_name = 'sagemaker-workshop-movie-recommender'\n",
    "train_instance_count = 1\n",
    "train_instance_type = \"ml.c5.18xlarge\"\n",
    "train_dataset_uri = 'http://files.grouplens.org/datasets/movielens/ml-latest.zip' "
   ]
  },
  {
   "cell_type": "markdown",
   "metadata": {},
   "source": [
    "### Helper Function: Identify SageMaker IAM service role\n",
    "\n",
    "SageMaker resources will need access to several resources to complete training jobs"
   ]
  },
  {
   "cell_type": "code",
   "execution_count": 3,
   "metadata": {},
   "outputs": [],
   "source": [
    "def get_sagemaker_role():\n",
    "    try:\n",
    "        # if running within Amazon SageMaker Notebook Instance, get current execution role\n",
    "        role = get_execution_role()\n",
    "    except:\n",
    "        # otherwise, guess the role\n",
    "        result = %sx aws iam list-roles | grep -e 'role/service-role' | grep -i 'sagemaker' | tr -d ' '\n",
    "        role = result[0][7:-2]\n",
    "        print(\"Found potential SageMaker service role: {}\".format(role))\n",
    "    return role"
   ]
  },
  {
   "cell_type": "code",
   "execution_count": 4,
   "metadata": {},
   "outputs": [
    {
     "name": "stdout",
     "output_type": "stream",
     "text": [
      "Found potential SageMaker service role: arn:aws:iam::306280812807:role/service-role/AmazonSageMaker-ExecutionRole-20180117T091311\n"
     ]
    }
   ],
   "source": [
    "role = get_sagemaker_role()"
   ]
  },
  {
   "cell_type": "markdown",
   "metadata": {},
   "source": [
    "### Helper Function: Identify SageMaker Container for specified region\n",
    "\n",
    "Set boto3 clients to use a valid SageMaker region and to select the proper container to use for training and endpoint deployment based on the specific algorithm to be used"
   ]
  },
  {
   "cell_type": "code",
   "execution_count": 5,
   "metadata": {},
   "outputs": [
    {
     "name": "stdout",
     "output_type": "stream",
     "text": [
      "Setting SageMaker region to: us-east-1\n",
      "Setting default S3 bucket to: sagemaker-workshop-movie-recommender-us-east-1\n"
     ]
    }
   ],
   "source": [
    "available_regions=['us-east-1','us-east-2','us-west-2','eu-west-1'] # available Amazon SageMaker regions\n",
    "region_name = boto3.Session().region_name\n",
    "if region_name not in available_regions:\n",
    "    region_name=available_regions[0]\n",
    "print('Setting SageMaker region to: {}'.format(region_name))\n",
    "default_bucket = '{}-{}'.format(project_name, region_name)\n",
    "print('Setting default S3 bucket to: {}'.format(default_bucket))"
   ]
  },
  {
   "cell_type": "code",
   "execution_count": 6,
   "metadata": {},
   "outputs": [
    {
     "data": {
      "text/plain": [
       "{'Location': '/sagemaker-workshop-movie-recommender-us-east-1',\n",
       " 'ResponseMetadata': {'HTTPHeaders': {'content-length': '0',\n",
       "   'date': 'Sun, 06 May 2018 07:54:53 GMT',\n",
       "   'location': '/sagemaker-workshop-movie-recommender-us-east-1',\n",
       "   'server': 'AmazonS3',\n",
       "   'x-amz-id-2': 'hZxn3cgufaXmvL1OYEJCphwPtfufFKaK+7aieTXI310bNMZNMoB9UTK2rHz/3umrPpL1nIDr18U=',\n",
       "   'x-amz-request-id': '00034D85804DDAA5'},\n",
       "  'HTTPStatusCode': 200,\n",
       "  'HostId': 'hZxn3cgufaXmvL1OYEJCphwPtfufFKaK+7aieTXI310bNMZNMoB9UTK2rHz/3umrPpL1nIDr18U=',\n",
       "  'RequestId': '00034D85804DDAA5',\n",
       "  'RetryAttempts': 0}}"
      ]
     },
     "execution_count": 6,
     "metadata": {},
     "output_type": "execute_result"
    }
   ],
   "source": [
    "### TODO: If not exists, create S3 bucket\n",
    "s3 = boto3.client(\"s3\", region_name=region_name)\n",
    "## check if bucket exists\n",
    "## if not...\n",
    "s3.create_bucket(Bucket=default_bucket)"
   ]
  },
  {
   "cell_type": "markdown",
   "metadata": {},
   "source": [
    "### Download and look at our data\n",
    "Let's get our data. Factorization Machines work well as recommendation solutions, such as movie recommendations! Also, FM's do great on lots of data, so let's get something heavy. Maybe the MovieLens dataset, with 20 million ratings?"
   ]
  },
  {
   "cell_type": "code",
   "execution_count": 7,
   "metadata": {},
   "outputs": [
    {
     "name": "stdout",
     "output_type": "stream",
     "text": [
      "--2018-05-06 07:55:11--  http://files.grouplens.org/datasets/movielens/ml-latest.zip\n",
      "Resolving files.grouplens.org (files.grouplens.org)... 128.101.34.235\n",
      "Connecting to files.grouplens.org (files.grouplens.org)|128.101.34.235|:80... connected.\n",
      "HTTP request sent, awaiting response... 200 OK\n",
      "Length: 248434223 (237M) [application/zip]\n",
      "Saving to: ‘/tmp/dataset.zip’\n",
      "\n",
      "/tmp/dataset.zip    100%[===================>] 236.92M  52.7MB/s    in 4.6s    \n",
      "\n",
      "2018-05-06 07:55:16 (51.4 MB/s) - ‘/tmp/dataset.zip’ saved [248434223/248434223]\n",
      "\n",
      "Archive:  /tmp/dataset.zip\n",
      "  inflating: /tmp/dataset/genome-scores.csv  \n",
      "  inflating: /tmp/dataset/genome-tags.csv  \n",
      "  inflating: /tmp/dataset/links.csv  \n",
      "  inflating: /tmp/dataset/movies.csv  \n",
      "  inflating: /tmp/dataset/ratings.csv  \n",
      "  inflating: /tmp/dataset/README.txt  \n",
      "  inflating: /tmp/dataset/tags.csv   \n"
     ]
    }
   ],
   "source": [
    "!rm -f /tmp/dataset.zip\n",
    "!rm -rf /tmp/dataset\n",
    "!wget -O /tmp/dataset.zip $train_dataset_uri\n",
    "!unzip -j -o /tmp/dataset.zip -d /tmp/dataset"
   ]
  },
  {
   "cell_type": "markdown",
   "metadata": {},
   "source": [
    "Let's take a look at the top of this file, shall we? This should show us the range of user ids, which we will need later."
   ]
  },
  {
   "cell_type": "code",
   "execution_count": 8,
   "metadata": {},
   "outputs": [
    {
     "name": "stdout",
     "output_type": "stream",
     "text": [
      "/tmp/dataset\n",
      "userId,movieId,rating,timestamp\n",
      "1,110,1.0,1425941529\n",
      "1,147,4.5,1425942435\n",
      "1,858,5.0,1425941523\n",
      "1,1221,5.0,1425941546\n",
      "1,1246,5.0,1425941556\n",
      "1,1968,4.0,1425942148\n",
      "1,2762,4.5,1425941300\n",
      "1,2918,5.0,1425941593\n",
      "1,2959,4.0,1425941601\n",
      "51433,172,5.0,1394863719\n",
      "51433,173,5.0,1394863483\n",
      "51433,208,5.0,1394863612\n",
      "51433,333,5.0,1394863271\n",
      "51433,442,5.0,1394863961\n",
      "51433,541,5.0,1394863673\n",
      "51433,661,5.0,1394863273\n",
      "51433,783,4.0,1394863276\n",
      "51433,1035,0.5,1394863180\n",
      "51433,1320,5.0,1394863183\n"
     ]
    }
   ],
   "source": [
    "%cd /tmp/dataset\n",
    "!head -5000000 ratings.csv > ratings.trunc.csv\n",
    "!mv ratings.trunc.csv ratings.csv\n",
    "!head -10 ratings.csv\n",
    "!tail -10 ratings.csv"
   ]
  },
  {
   "cell_type": "code",
   "execution_count": 9,
   "metadata": {},
   "outputs": [
    {
     "data": {
      "text/html": [
       "<div>\n",
       "<style scoped>\n",
       "    .dataframe tbody tr th:only-of-type {\n",
       "        vertical-align: middle;\n",
       "    }\n",
       "\n",
       "    .dataframe tbody tr th {\n",
       "        vertical-align: top;\n",
       "    }\n",
       "\n",
       "    .dataframe thead th {\n",
       "        text-align: right;\n",
       "    }\n",
       "</style>\n",
       "<table border=\"1\" class=\"dataframe\">\n",
       "  <thead>\n",
       "    <tr style=\"text-align: right;\">\n",
       "      <th></th>\n",
       "      <th>userId</th>\n",
       "      <th>movieId</th>\n",
       "      <th>rating</th>\n",
       "    </tr>\n",
       "  </thead>\n",
       "  <tbody>\n",
       "    <tr>\n",
       "      <th>0</th>\n",
       "      <td>1</td>\n",
       "      <td>110</td>\n",
       "      <td>1.0</td>\n",
       "    </tr>\n",
       "    <tr>\n",
       "      <th>1</th>\n",
       "      <td>1</td>\n",
       "      <td>147</td>\n",
       "      <td>4.5</td>\n",
       "    </tr>\n",
       "    <tr>\n",
       "      <th>2</th>\n",
       "      <td>1</td>\n",
       "      <td>858</td>\n",
       "      <td>5.0</td>\n",
       "    </tr>\n",
       "    <tr>\n",
       "      <th>3</th>\n",
       "      <td>1</td>\n",
       "      <td>1221</td>\n",
       "      <td>5.0</td>\n",
       "    </tr>\n",
       "    <tr>\n",
       "      <th>4</th>\n",
       "      <td>1</td>\n",
       "      <td>1246</td>\n",
       "      <td>5.0</td>\n",
       "    </tr>\n",
       "  </tbody>\n",
       "</table>\n",
       "</div>"
      ],
      "text/plain": [
       "   userId  movieId  rating\n",
       "0       1      110     1.0\n",
       "1       1      147     4.5\n",
       "2       1      858     5.0\n",
       "3       1     1221     5.0\n",
       "4       1     1246     5.0"
      ]
     },
     "execution_count": 9,
     "metadata": {},
     "output_type": "execute_result"
    }
   ],
   "source": [
    "data = pd.read_csv(\"/tmp/dataset/ratings.csv\", sep=',')\n",
    "data = data.drop('timestamp',1)\n",
    "data.head()"
   ]
  },
  {
   "cell_type": "markdown",
   "metadata": {},
   "source": [
    "## Ratings: User Data"
   ]
  },
  {
   "cell_type": "code",
   "execution_count": 10,
   "metadata": {},
   "outputs": [
    {
     "name": "stdout",
     "output_type": "stream",
     "text": [
      "Users: 51433\n",
      "\n",
      "Users Most Rating: \n",
      "45811    18276\n",
      "8659      9279\n",
      "24025     4946\n",
      "41190     4785\n",
      "33940     4120\n",
      "32984     3958\n",
      "40207     3896\n",
      "30494     3796\n",
      "37222     3722\n",
      "39742     3614\n",
      "Name: userId, dtype: int64\n"
     ]
    },
    {
     "data": {
      "image/png": "[encoded data removed]",
      "text/plain": [
       "<matplotlib.figure.Figure at 0x7fbf38d31c50>"
      ]
     },
     "metadata": {},
     "output_type": "display_data"
    }
   ],
   "source": [
    "user_ratings = data['userId'].value_counts()\n",
    "user_count = user_ratings.count()\n",
    "print(\"Users: {}\\n\".format(user_count))\n",
    "print(\"Users Most Rating: \\n{}\".format(user_ratings.head(n=10)))\n",
    "ax = user_ratings.hist(bins=250)\n",
    "ax.set_yscale('log')\n",
    "plt.show()"
   ]
  },
  {
   "cell_type": "markdown",
   "metadata": {},
   "source": [
    "## Ratings: Movie Data"
   ]
  },
  {
   "cell_type": "code",
   "execution_count": 11,
   "metadata": {},
   "outputs": [
    {
     "name": "stdout",
     "output_type": "stream",
     "text": [
      "Movies Rated: 34718\n",
      "\n",
      "Movies Most Rated: \n",
      "356     17572\n",
      "318     17520\n",
      "296     16690\n",
      "593     16086\n",
      "2571    14896\n",
      "260     14767\n",
      "480     14294\n",
      "527     13001\n",
      "110     12683\n",
      "1       12594\n",
      "Name: movieId, dtype: int64\n"
     ]
    },
    {
     "data": {
      "image/png": "[encoded data removed]",
      "text/plain": [
       "<matplotlib.figure.Figure at 0x7fbf389ef748>"
      ]
     },
     "metadata": {},
     "output_type": "display_data"
    }
   ],
   "source": [
    "movie_ratings = data['movieId'].value_counts()\n",
    "movie_count = movie_ratings.count()\n",
    "print(\"Movies Rated: {}\\n\".format(movie_count))\n",
    "print(\"Movies Most Rated: \\n{}\".format(movie_ratings.head(n=10)))\n",
    "ax = movie_ratings.hist(bins=250)\n",
    "ax.set_yscale('log')\n",
    "plt.show()"
   ]
  },
  {
   "cell_type": "markdown",
   "metadata": {},
   "source": [
    "### Randomizing data\n",
    "\n",
    "We will now shuffle the data, splitting the dataset into training+validation(90%) and testing/prediction(10%)\n",
    "\n",
    "We will reshape the training+validation data for use by the Factorization Machine training, and set aside the remaining testing/prediction data for use when the endpoint is set up"
   ]
  },
  {
   "cell_type": "code",
   "execution_count": 12,
   "metadata": {},
   "outputs": [],
   "source": [
    "from sklearn.model_selection import train_test_split\n",
    "\n",
    "data_training, data_prediction = train_test_split(data,test_size=0.1, random_state=42)"
   ]
  },
  {
   "cell_type": "markdown",
   "metadata": {},
   "source": [
    "### Build training + validation set\n",
    "\n",
    "When using Factorization Machines for building a recommender system, the algorithm expects the data to look something like:\n",
    "\n",
    "|Rating|User1|User2|...|UserN|Movie1|Movie2|Movie3|...|MovieM|\n",
    "|---|---|---|---|---|---|---|---|---|---|\n",
    "|4|1|0|...|0|1|0|0|...|0|\n",
    "|5|1|0|...|0|0|1|0|...|0|\n",
    "|3|0|1|...|0|1|0|0|...|0|\n",
    "|4|0|1|...|0|0|0|1|...|0|\n",
    "\n",
    "- Our target column is the rating for that user movie combination.  This could be the number of stars given, or could be a binarized version (movies with ratings 4 and above are set to `1`, otherwise `0`).  \n",
    "- We have a set of `N` features which are a one-hot encoding of user.  They only take a value of `1` to indicate observations which belong to that customer.\n",
    "- We also have a set of `M` features which are a one-hot encoding of movie.\n",
    "\n",
    "Sagemaker's Factorization Machines can handle sparse data, meaning we only store the non-zero entries, but to contruct the sparse feature matrices we need to figure out the size of the training and testing sets. We also normalized the movie ids here."
   ]
  },
  {
   "cell_type": "code",
   "execution_count": 41,
   "metadata": {},
   "outputs": [
    {
     "name": "stdout",
     "output_type": "stream",
     "text": [
      "CPU times: user 56.7 s, sys: 828 ms, total: 57.6 s\n",
      "Wall time: 57.3 s\n"
     ]
    }
   ],
   "source": [
    "%%time\n",
    "\n",
    "feature_count = user_count+movie_count\n",
    "instance_count = data['userId'].count()\n",
    "\n",
    "data_onehot=pd.get_dummies(data_training.to_sparse(),columns=['userId','movieId'],sparse=True).astype('float32')\n",
    "# ~4MM instances, ml.m4.16xlarge\n",
    "# CPU times: user 56.7 s, sys: 828 ms, total: 57.6 s\n",
    "# Wall time: 57.3 s"
   ]
  },
  {
   "cell_type": "code",
   "execution_count": 42,
   "metadata": {},
   "outputs": [
    {
     "data": {
      "text/html": [
       "<div>\n",
       "<style scoped>\n",
       "    .dataframe tbody tr th:only-of-type {\n",
       "        vertical-align: middle;\n",
       "    }\n",
       "\n",
       "    .dataframe tbody tr th {\n",
       "        vertical-align: top;\n",
       "    }\n",
       "\n",
       "    .dataframe thead th {\n",
       "        text-align: right;\n",
       "    }\n",
       "</style>\n",
       "<table border=\"1\" class=\"dataframe\">\n",
       "  <thead>\n",
       "    <tr style=\"text-align: right;\">\n",
       "      <th></th>\n",
       "      <th>rating</th>\n",
       "      <th>userId_1</th>\n",
       "      <th>userId_2</th>\n",
       "      <th>userId_3</th>\n",
       "      <th>userId_4</th>\n",
       "      <th>userId_5</th>\n",
       "      <th>userId_6</th>\n",
       "      <th>userId_7</th>\n",
       "      <th>userId_8</th>\n",
       "      <th>userId_9</th>\n",
       "      <th>...</th>\n",
       "      <th>movieId_176185</th>\n",
       "      <th>movieId_176187</th>\n",
       "      <th>movieId_176189</th>\n",
       "      <th>movieId_176205</th>\n",
       "      <th>movieId_176207</th>\n",
       "      <th>movieId_176211</th>\n",
       "      <th>movieId_176219</th>\n",
       "      <th>movieId_176239</th>\n",
       "      <th>movieId_176249</th>\n",
       "      <th>movieId_176271</th>\n",
       "    </tr>\n",
       "  </thead>\n",
       "  <tbody>\n",
       "    <tr>\n",
       "      <th>3579552</th>\n",
       "      <td>4.0</td>\n",
       "      <td>0.0</td>\n",
       "      <td>0.0</td>\n",
       "      <td>0.0</td>\n",
       "      <td>0.0</td>\n",
       "      <td>0.0</td>\n",
       "      <td>0.0</td>\n",
       "      <td>0.0</td>\n",
       "      <td>0.0</td>\n",
       "      <td>0.0</td>\n",
       "      <td>...</td>\n",
       "      <td>0.0</td>\n",
       "      <td>0.0</td>\n",
       "      <td>0.0</td>\n",
       "      <td>0.0</td>\n",
       "      <td>0.0</td>\n",
       "      <td>0.0</td>\n",
       "      <td>0.0</td>\n",
       "      <td>0.0</td>\n",
       "      <td>0.0</td>\n",
       "      <td>0.0</td>\n",
       "    </tr>\n",
       "    <tr>\n",
       "      <th>4191133</th>\n",
       "      <td>3.0</td>\n",
       "      <td>0.0</td>\n",
       "      <td>0.0</td>\n",
       "      <td>0.0</td>\n",
       "      <td>0.0</td>\n",
       "      <td>0.0</td>\n",
       "      <td>0.0</td>\n",
       "      <td>0.0</td>\n",
       "      <td>0.0</td>\n",
       "      <td>0.0</td>\n",
       "      <td>...</td>\n",
       "      <td>0.0</td>\n",
       "      <td>0.0</td>\n",
       "      <td>0.0</td>\n",
       "      <td>0.0</td>\n",
       "      <td>0.0</td>\n",
       "      <td>0.0</td>\n",
       "      <td>0.0</td>\n",
       "      <td>0.0</td>\n",
       "      <td>0.0</td>\n",
       "      <td>0.0</td>\n",
       "    </tr>\n",
       "    <tr>\n",
       "      <th>2600902</th>\n",
       "      <td>4.5</td>\n",
       "      <td>0.0</td>\n",
       "      <td>0.0</td>\n",
       "      <td>0.0</td>\n",
       "      <td>0.0</td>\n",
       "      <td>0.0</td>\n",
       "      <td>0.0</td>\n",
       "      <td>0.0</td>\n",
       "      <td>0.0</td>\n",
       "      <td>0.0</td>\n",
       "      <td>...</td>\n",
       "      <td>0.0</td>\n",
       "      <td>0.0</td>\n",
       "      <td>0.0</td>\n",
       "      <td>0.0</td>\n",
       "      <td>0.0</td>\n",
       "      <td>0.0</td>\n",
       "      <td>0.0</td>\n",
       "      <td>0.0</td>\n",
       "      <td>0.0</td>\n",
       "      <td>0.0</td>\n",
       "    </tr>\n",
       "    <tr>\n",
       "      <th>4152969</th>\n",
       "      <td>3.0</td>\n",
       "      <td>0.0</td>\n",
       "      <td>0.0</td>\n",
       "      <td>0.0</td>\n",
       "      <td>0.0</td>\n",
       "      <td>0.0</td>\n",
       "      <td>0.0</td>\n",
       "      <td>0.0</td>\n",
       "      <td>0.0</td>\n",
       "      <td>0.0</td>\n",
       "      <td>...</td>\n",
       "      <td>0.0</td>\n",
       "      <td>0.0</td>\n",
       "      <td>0.0</td>\n",
       "      <td>0.0</td>\n",
       "      <td>0.0</td>\n",
       "      <td>0.0</td>\n",
       "      <td>0.0</td>\n",
       "      <td>0.0</td>\n",
       "      <td>0.0</td>\n",
       "      <td>0.0</td>\n",
       "    </tr>\n",
       "    <tr>\n",
       "      <th>1753651</th>\n",
       "      <td>1.0</td>\n",
       "      <td>0.0</td>\n",
       "      <td>0.0</td>\n",
       "      <td>0.0</td>\n",
       "      <td>0.0</td>\n",
       "      <td>0.0</td>\n",
       "      <td>0.0</td>\n",
       "      <td>0.0</td>\n",
       "      <td>0.0</td>\n",
       "      <td>0.0</td>\n",
       "      <td>...</td>\n",
       "      <td>0.0</td>\n",
       "      <td>0.0</td>\n",
       "      <td>0.0</td>\n",
       "      <td>0.0</td>\n",
       "      <td>0.0</td>\n",
       "      <td>0.0</td>\n",
       "      <td>0.0</td>\n",
       "      <td>0.0</td>\n",
       "      <td>0.0</td>\n",
       "      <td>0.0</td>\n",
       "    </tr>\n",
       "  </tbody>\n",
       "</table>\n",
       "<p>5 rows × 85069 columns</p>\n",
       "</div>"
      ],
      "text/plain": [
       "         rating  userId_1  userId_2  userId_3  userId_4  userId_5  userId_6  \\\n",
       "3579552     4.0       0.0       0.0       0.0       0.0       0.0       0.0   \n",
       "4191133     3.0       0.0       0.0       0.0       0.0       0.0       0.0   \n",
       "2600902     4.5       0.0       0.0       0.0       0.0       0.0       0.0   \n",
       "4152969     3.0       0.0       0.0       0.0       0.0       0.0       0.0   \n",
       "1753651     1.0       0.0       0.0       0.0       0.0       0.0       0.0   \n",
       "\n",
       "         userId_7  userId_8  userId_9       ...        movieId_176185  \\\n",
       "3579552       0.0       0.0       0.0       ...                   0.0   \n",
       "4191133       0.0       0.0       0.0       ...                   0.0   \n",
       "2600902       0.0       0.0       0.0       ...                   0.0   \n",
       "4152969       0.0       0.0       0.0       ...                   0.0   \n",
       "1753651       0.0       0.0       0.0       ...                   0.0   \n",
       "\n",
       "         movieId_176187  movieId_176189  movieId_176205  movieId_176207  \\\n",
       "3579552             0.0             0.0             0.0             0.0   \n",
       "4191133             0.0             0.0             0.0             0.0   \n",
       "2600902             0.0             0.0             0.0             0.0   \n",
       "4152969             0.0             0.0             0.0             0.0   \n",
       "1753651             0.0             0.0             0.0             0.0   \n",
       "\n",
       "         movieId_176211  movieId_176219  movieId_176239  movieId_176249  \\\n",
       "3579552             0.0             0.0             0.0             0.0   \n",
       "4191133             0.0             0.0             0.0             0.0   \n",
       "2600902             0.0             0.0             0.0             0.0   \n",
       "4152969             0.0             0.0             0.0             0.0   \n",
       "1753651             0.0             0.0             0.0             0.0   \n",
       "\n",
       "         movieId_176271  \n",
       "3579552             0.0  \n",
       "4191133             0.0  \n",
       "2600902             0.0  \n",
       "4152969             0.0  \n",
       "1753651             0.0  \n",
       "\n",
       "[5 rows x 85069 columns]"
      ]
     },
     "execution_count": 42,
     "metadata": {},
     "output_type": "execute_result"
    }
   ],
   "source": [
    "data_onehot.head() # should see userId_1 filled in for initial entries"
   ]
  },
  {
   "cell_type": "code",
   "execution_count": 15,
   "metadata": {},
   "outputs": [
    {
     "data": {
      "text/html": [
       "<div>\n",
       "<style scoped>\n",
       "    .dataframe tbody tr th:only-of-type {\n",
       "        vertical-align: middle;\n",
       "    }\n",
       "\n",
       "    .dataframe tbody tr th {\n",
       "        vertical-align: top;\n",
       "    }\n",
       "\n",
       "    .dataframe thead th {\n",
       "        text-align: right;\n",
       "    }\n",
       "</style>\n",
       "<table border=\"1\" class=\"dataframe\">\n",
       "  <thead>\n",
       "    <tr style=\"text-align: right;\">\n",
       "      <th></th>\n",
       "      <th>rating</th>\n",
       "      <th>userId_1</th>\n",
       "      <th>userId_2</th>\n",
       "      <th>userId_3</th>\n",
       "      <th>userId_4</th>\n",
       "      <th>userId_5</th>\n",
       "      <th>userId_6</th>\n",
       "      <th>userId_7</th>\n",
       "      <th>userId_8</th>\n",
       "      <th>userId_9</th>\n",
       "      <th>...</th>\n",
       "      <th>movieId_176185</th>\n",
       "      <th>movieId_176187</th>\n",
       "      <th>movieId_176189</th>\n",
       "      <th>movieId_176205</th>\n",
       "      <th>movieId_176207</th>\n",
       "      <th>movieId_176211</th>\n",
       "      <th>movieId_176219</th>\n",
       "      <th>movieId_176239</th>\n",
       "      <th>movieId_176249</th>\n",
       "      <th>movieId_176271</th>\n",
       "    </tr>\n",
       "  </thead>\n",
       "  <tbody>\n",
       "    <tr>\n",
       "      <th>1570006</th>\n",
       "      <td>4.5</td>\n",
       "      <td>0</td>\n",
       "      <td>0</td>\n",
       "      <td>0</td>\n",
       "      <td>0</td>\n",
       "      <td>0</td>\n",
       "      <td>0</td>\n",
       "      <td>0</td>\n",
       "      <td>0</td>\n",
       "      <td>0</td>\n",
       "      <td>...</td>\n",
       "      <td>0</td>\n",
       "      <td>0</td>\n",
       "      <td>0</td>\n",
       "      <td>0</td>\n",
       "      <td>0</td>\n",
       "      <td>0</td>\n",
       "      <td>0</td>\n",
       "      <td>0</td>\n",
       "      <td>0</td>\n",
       "      <td>0</td>\n",
       "    </tr>\n",
       "    <tr>\n",
       "      <th>2234489</th>\n",
       "      <td>1.0</td>\n",
       "      <td>0</td>\n",
       "      <td>0</td>\n",
       "      <td>0</td>\n",
       "      <td>0</td>\n",
       "      <td>0</td>\n",
       "      <td>0</td>\n",
       "      <td>0</td>\n",
       "      <td>0</td>\n",
       "      <td>0</td>\n",
       "      <td>...</td>\n",
       "      <td>0</td>\n",
       "      <td>0</td>\n",
       "      <td>0</td>\n",
       "      <td>0</td>\n",
       "      <td>0</td>\n",
       "      <td>0</td>\n",
       "      <td>0</td>\n",
       "      <td>0</td>\n",
       "      <td>0</td>\n",
       "      <td>0</td>\n",
       "    </tr>\n",
       "    <tr>\n",
       "      <th>4926484</th>\n",
       "      <td>3.0</td>\n",
       "      <td>0</td>\n",
       "      <td>0</td>\n",
       "      <td>0</td>\n",
       "      <td>0</td>\n",
       "      <td>0</td>\n",
       "      <td>0</td>\n",
       "      <td>0</td>\n",
       "      <td>0</td>\n",
       "      <td>0</td>\n",
       "      <td>...</td>\n",
       "      <td>0</td>\n",
       "      <td>0</td>\n",
       "      <td>0</td>\n",
       "      <td>0</td>\n",
       "      <td>0</td>\n",
       "      <td>0</td>\n",
       "      <td>0</td>\n",
       "      <td>0</td>\n",
       "      <td>0</td>\n",
       "      <td>0</td>\n",
       "    </tr>\n",
       "    <tr>\n",
       "      <th>4304572</th>\n",
       "      <td>4.0</td>\n",
       "      <td>0</td>\n",
       "      <td>0</td>\n",
       "      <td>0</td>\n",
       "      <td>0</td>\n",
       "      <td>0</td>\n",
       "      <td>0</td>\n",
       "      <td>0</td>\n",
       "      <td>0</td>\n",
       "      <td>0</td>\n",
       "      <td>...</td>\n",
       "      <td>0</td>\n",
       "      <td>0</td>\n",
       "      <td>0</td>\n",
       "      <td>0</td>\n",
       "      <td>0</td>\n",
       "      <td>0</td>\n",
       "      <td>0</td>\n",
       "      <td>0</td>\n",
       "      <td>0</td>\n",
       "      <td>0</td>\n",
       "    </tr>\n",
       "    <tr>\n",
       "      <th>1692743</th>\n",
       "      <td>5.0</td>\n",
       "      <td>0</td>\n",
       "      <td>0</td>\n",
       "      <td>0</td>\n",
       "      <td>0</td>\n",
       "      <td>0</td>\n",
       "      <td>0</td>\n",
       "      <td>0</td>\n",
       "      <td>0</td>\n",
       "      <td>0</td>\n",
       "      <td>...</td>\n",
       "      <td>0</td>\n",
       "      <td>0</td>\n",
       "      <td>0</td>\n",
       "      <td>0</td>\n",
       "      <td>0</td>\n",
       "      <td>0</td>\n",
       "      <td>0</td>\n",
       "      <td>0</td>\n",
       "      <td>0</td>\n",
       "      <td>0</td>\n",
       "    </tr>\n",
       "  </tbody>\n",
       "</table>\n",
       "<p>5 rows × 85069 columns</p>\n",
       "</div>"
      ],
      "text/plain": [
       "         rating  userId_1  userId_2  userId_3  userId_4  userId_5  userId_6  \\\n",
       "1570006     4.5         0         0         0         0         0         0   \n",
       "2234489     1.0         0         0         0         0         0         0   \n",
       "4926484     3.0         0         0         0         0         0         0   \n",
       "4304572     4.0         0         0         0         0         0         0   \n",
       "1692743     5.0         0         0         0         0         0         0   \n",
       "\n",
       "         userId_7  userId_8  userId_9       ...        movieId_176185  \\\n",
       "1570006         0         0         0       ...                     0   \n",
       "2234489         0         0         0       ...                     0   \n",
       "4926484         0         0         0       ...                     0   \n",
       "4304572         0         0         0       ...                     0   \n",
       "1692743         0         0         0       ...                     0   \n",
       "\n",
       "         movieId_176187  movieId_176189  movieId_176205  movieId_176207  \\\n",
       "1570006               0               0               0               0   \n",
       "2234489               0               0               0               0   \n",
       "4926484               0               0               0               0   \n",
       "4304572               0               0               0               0   \n",
       "1692743               0               0               0               0   \n",
       "\n",
       "         movieId_176211  movieId_176219  movieId_176239  movieId_176249  \\\n",
       "1570006               0               0               0               0   \n",
       "2234489               0               0               0               0   \n",
       "4926484               0               0               0               0   \n",
       "4304572               0               0               0               0   \n",
       "1692743               0               0               0               0   \n",
       "\n",
       "         movieId_176271  \n",
       "1570006               0  \n",
       "2234489               0  \n",
       "4926484               0  \n",
       "4304572               0  \n",
       "1692743               0  \n",
       "\n",
       "[5 rows x 85069 columns]"
      ]
     },
     "execution_count": 15,
     "metadata": {},
     "output_type": "execute_result"
    }
   ],
   "source": [
    "data_onehot.tail() # should be last column userId_<last_user_id> filled in for initial entries"
   ]
  },
  {
   "cell_type": "markdown",
   "metadata": {},
   "source": [
    "## Splitting dataset -> features vs labels\n",
    "\n",
    "The data is currently held in a sparse matrix, we'll inspect it to see what it is all about"
   ]
  },
  {
   "cell_type": "code",
   "execution_count": 43,
   "metadata": {},
   "outputs": [
    {
     "name": "stdout",
     "output_type": "stream",
     "text": [
      "<class 'pandas.core.sparse.frame.SparseDataFrame'>\n",
      "Int64Index: 4499999 entries, 3579552 to 1692743\n",
      "Columns: 85069 entries, rating to movieId_176271\n",
      "dtypes: float32(85069)\n",
      "memory usage: 245.8 MB\n"
     ]
    }
   ],
   "source": [
    "data_onehot.info()"
   ]
  },
  {
   "cell_type": "markdown",
   "metadata": {},
   "source": [
    "We will need to split the prediction targets(y), ie. a vector of the ratings themselves, from the matrix of other predictive features(X)"
   ]
  },
  {
   "cell_type": "code",
   "execution_count": null,
   "metadata": {},
   "outputs": [],
   "source": [
    "%%time\n",
    "\n",
    "X = data_onehot.loc[:, 'userId_1'::]\n",
    "y = data_onehot.loc[:,'rating']\n",
    "\n",
    "X.info()"
   ]
  },
  {
   "cell_type": "markdown",
   "metadata": {},
   "source": [
    "## Data conversion\n",
    "Our final bit of data conversion is to convert the features of X and the labels of y into a RecordIO-protobuf format which streamlines the sparse data to be used for training.\n",
    "\n",
    "There are two ways to achieve this result:\n",
    "    - use a special library function to automatically convert the training/validation data to RecordIO protobuf format, and automatically upload those files to an S3 location\n",
    "    - use a custom function to index through the sparse dataset, writing the output buffer to a file and shipping that to a predetermined S3 bucket location\n",
    "\n",
    "For more information, see: [Training Data Serialization](https://alpha-docs-aws.amazon.com/sagemaker/latest/dg/cdf-training.html)"
   ]
  },
  {
   "cell_type": "markdown",
   "metadata": {},
   "source": [
    "### Option 1: Automatic conversion of training/validation datasets and upload to S3\n",
    "\n",
    "This is a simpler method that works for smaller datasets"
   ]
  },
  {
   "cell_type": "code",
   "execution_count": 81,
   "metadata": {},
   "outputs": [
    {
     "name": "stdout",
     "output_type": "stream",
     "text": [
      "CPU times: user 28.3 s, sys: 1.05 s, total: 29.4 s\n",
      "Wall time: 34.2 s\n"
     ]
    }
   ],
   "source": [
    "%%time\n",
    "\n",
    "max_records = 1000\n",
    "record_data_train = fm.record_set(X[0:max_records].values,labels=y[0:max_records],channel='train')\n",
    "\n",
    "\n",
    "# 1000 instances, notebook ml.m4.16xlarge\n",
    "# CPU times: user 28.3 s, sys: 1.05 s, total: 29.4 s\n",
    "# Wall time: 34.2 s\n",
    "    \n",
    "# 10000 instances, notebook ml.m4.16xlarge\n",
    "# CPU times: user 2min 31s, sys: 10.3 s, total: 2min 41s\n",
    "# Wall time: 3min 19s\n",
    "    \n",
    "# 50000 instances, notebook ml.m4.16xlarge\n",
    "# ClientError: An error occurred (EntityTooLarge) when calling the PutObject operation: Your proposed upload exceeds the maximum allowed size"
   ]
  },
  {
   "cell_type": "markdown",
   "metadata": {},
   "source": [
    "### Option 2: Convert to protobuf and save to S3\n",
    "We train our models from data in S3; writing a helper function here to help us with that."
   ]
  },
  {
   "cell_type": "code",
   "execution_count": 82,
   "metadata": {},
   "outputs": [],
   "source": [
    "# OPTIONAL: use for larger datasets\n",
    "def writeDatasetToProtobuf(X, y, bucket, prefix, key):\n",
    "    from scipy.sparse import issparse\n",
    "    buf = io.BytesIO()\n",
    "    smac.write_spmatrix_to_sparse_tensor(buf, X, y)\n",
    "    buf.seek(0)\n",
    "    obj = '{}/{}'.format(prefix, key)\n",
    "    boto3.resource('s3').Bucket(bucket).Object(obj).upload_fileobj(buf)\n",
    "    return 's3://{}/{}'.format(bucket,obj)"
   ]
  },
  {
   "cell_type": "code",
   "execution_count": null,
   "metadata": {},
   "outputs": [],
   "source": [
    "%%time\n",
    "\n",
    "train_data_location = writeDatasetToProtobuf(X.to_coo(), y, default_bucket, 'protobuf', 'train')    \n",
    "#test_data_location  = writeDatasetToProtobuf(X_test, Y_test, default_bucket, test_prefix, test_key)\n",
    "\n",
    "#train_data_location = \"s3://{}/{}/train/{}\".format(default_bucket, prefix, train_key)  \n",
    "#test_data_location  = \"s3://{}/{}/test/{}\".format(default_bucket, prefix, test_key)\n",
    "  \n",
    "print(train_data_location)\n",
    "\n",
    "# ~5MM instances, ml.m4.16xlarge\n",
    "# CPU times: user 9min 51s, sys: 7.6 s, total: 9min 59s\n",
    "# Wall time: 9min 43s\n",
    "\n",
    "# ~4.5MM instances, ml.m4.16xlarge, training dataset only\n",
    "# CPU times: user 9min 51s, sys: 7.6 s, total: 9min 59s\n",
    "# Wall time: 9min 43s"
   ]
  },
  {
   "cell_type": "markdown",
   "metadata": {},
   "source": [
    "## Run Factorization Machine training job with validation\n",
    "Sagemaker algorithms are stored as Docker containers in ECS, and we need the URI of the containers. This will be region specific."
   ]
  },
  {
   "cell_type": "code",
   "execution_count": 16,
   "metadata": {},
   "outputs": [],
   "source": [
    "fm_containers = {\n",
    "    'us-west-2': '174872318107.dkr.ecr.us-west-2.amazonaws.com/factorization-machines:latest',\n",
    "    'us-east-1': '382416733822.dkr.ecr.us-east-1.amazonaws.com/factorization-machines:latest',\n",
    "    'us-east-2': '404615174143.dkr.ecr.us-east-2.amazonaws.com/factorization-machines:latest',\n",
    "    'eu-west-1': '438346466558.dkr.ecr.eu-west-1.amazonaws.com/factorization-machines:latest'}\n",
    "\n",
    "training_image = fm_containers[region_name]"
   ]
  },
  {
   "cell_type": "markdown",
   "metadata": {},
   "source": [
    "## Fit the model on SageMaker training instances\n",
    "\n",
    "Training time! We will now fit the model using SageMaker instance(s), this could take some time.\n",
    "\n",
    "Some things to note here that might not be obvious:\n",
    "<ul>\n",
    "    <li>You can specify the hardware you want to use; Sagemaker will create your cluster and deploy your image</li>\n",
    "    <li>You can optionally proviode a test dataset as well, which we have done here</li>\n",
    "    <li>The metrics will be printed out after each epoch and mini batch</li>\n",
    "</ul>\n",
    "\n",
    "In order to train our Factorization Machine, we'll need to specify some hyperparameters.  First, let's think about what a Factorization Machine does:  \n",
    "\n",
    "$$\\hat{r} = w_0 + \\sum_{i} {w_i x_i} + \\sum_{i} {\\sum_{j > i} {\\langle v_i, v_j \\rangle x_i x_j}}$$\n",
    "\n",
    "where $\\hat{r}$ is the movie rating, $x_i$ are the one-hot encoded user and movie indicators, $w_i$ are linear weights, and the second term represents the pairwise feature interactions as a reduced dimension factorization.  This reduction in dimensionality allows us to find a smaller, more generalizable representation of information in the large sparse input dataset.  Key hyperparameters are therefore:\n",
    "\n",
    "- `feature_dim`: How big our initial movie \n",
    "- `num_factors`: How large our reduced dimensionality representation of interactions should be\n",
    "\n",
    "We also specify hyperparameters like `mini_batch_size` and `epochs` which can be tuned for improved performance.\n",
    "\n",
    "Hit \"play\" and sit back to let Sagemaker do all the work here"
   ]
  },
  {
   "cell_type": "code",
   "execution_count": 47,
   "metadata": {},
   "outputs": [
    {
     "name": "stderr",
     "output_type": "stream",
     "text": [
      "INFO:sagemaker:Created S3 bucket: sagemaker-us-east-1-306280812807\n"
     ]
    },
    {
     "name": "stdout",
     "output_type": "stream",
     "text": [
      "<class 'pandas.core.sparse.frame.SparseDataFrame'>\n",
      "Int64Index: 4499999 entries, 3579552 to 1692743\n",
      "Columns: 85068 entries, userId_1 to movieId_176271\n",
      "dtypes: float32(85068)\n",
      "memory usage: 68.7 MB\n"
     ]
    },
    {
     "name": "stderr",
     "output_type": "stream",
     "text": [
      "INFO:sagemaker:Creating training-job with name: factorization-machines-2018-05-06-08-57-50-849\n"
     ]
    },
    {
     "name": "stdout",
     "output_type": "stream",
     "text": [
      "................................................\n",
      "\u001b[31mDocker entrypoint called with argument(s): train\u001b[0m\n",
      "\u001b[31m[05/06/2018 09:01:43 INFO 140448270694208] Reading default configuration from /opt/amazon/lib/python2.7/site-packages/algorithm/resources/default-conf.json: {u'factors_lr': u'0.0001', u'linear_init_sigma': u'0.01', u'epochs': 1, u'_wd': u'1.0', u'_num_kv_servers': u'auto', u'use_bias': u'true', u'factors_init_sigma': u'0.001', u'_log_level': u'info', u'bias_init_method': u'normal', u'linear_init_method': u'normal', u'linear_lr': u'0.001', u'factors_init_method': u'normal', u'_tuning_objective_metric': u'', u'bias_wd': u'0.01', u'use_linear': u'true', u'_speedometer_period': u'500', u'bias_lr': u'0.1', u'mini_batch_size': u'1000', u'_use_full_symbolic': u'true', u'bias_init_sigma': u'0.01', u'_num_gpus': u'auto', u'_data_format': u'record', u'factors_wd': u'0.00001', u'linear_wd': u'0.001', u'_kvstore': u'auto', u'_learning_rate': u'1.0', u'_optimizer': u'adam'}\u001b[0m\n",
      "\u001b[31m[05/06/2018 09:01:43 INFO 140448270694208] Reading provided configuration from /opt/ml/input/config/hyperparameters.json: {u'epochs': u'3', u'feature_dim': u'85068', u'mini_batch_size': u'1000', u'predictor_type': u'regressor', u'num_factors': u'64'}\u001b[0m\n",
      "\u001b[31m[05/06/2018 09:01:43 INFO 140448270694208] Final configuration: {u'factors_lr': u'0.0001', u'linear_init_sigma': u'0.01', u'epochs': u'3', u'feature_dim': u'85068', u'num_factors': u'64', u'_wd': u'1.0', u'_num_kv_servers': u'auto', u'use_bias': u'true', u'factors_init_sigma': u'0.001', u'_log_level': u'info', u'bias_init_method': u'normal', u'linear_init_method': u'normal', u'linear_lr': u'0.001', u'factors_init_method': u'normal', u'_tuning_objective_metric': u'', u'bias_wd': u'0.01', u'use_linear': u'true', u'_speedometer_period': u'500', u'bias_lr': u'0.1', u'mini_batch_size': u'1000', u'_use_full_symbolic': u'true', u'predictor_type': u'regressor', u'bias_init_sigma': u'0.01', u'_num_gpus': u'auto', u'_data_format': u'record', u'factors_wd': u'0.00001', u'linear_wd': u'0.001', u'_kvstore': u'auto', u'_learning_rate': u'1.0', u'_optimizer': u'adam'}\u001b[0m\n",
      "\u001b[31m[05/06/2018 09:01:43 WARNING 140448270694208] Loggers have already been setup.\u001b[0m\n",
      "\u001b[31m[05/06/2018 09:01:43 INFO 140448270694208] Using default worker.\u001b[0m\n",
      "\u001b[31m[05/06/2018 09:01:45 INFO 140448270694208] nvidia-smi took: 0.0326027870178 secs to identify 0 gpus\u001b[0m\n",
      "\u001b[31m[05/06/2018 09:01:45 INFO 140448270694208] Number of GPUs being used: 0\u001b[0m\n",
      "\u001b[31m[05/06/2018 09:01:45 INFO 140448270694208] [Fully symbolic network] Building a fully symbolic network.\u001b[0m\n",
      "\u001b[31m[05/06/2018 09:01:45 INFO 140448270694208] Create Store: local\u001b[0m\n",
      "\u001b[31m#metrics {\"Metrics\": {\"initialize.time\": {\"count\": 1, \"max\": 80.60598373413086, \"sum\": 80.60598373413086, \"min\": 80.60598373413086}}, \"EndTime\": 1525597305.723486, \"Dimensions\": {\"Host\": \"algo-1\", \"Operation\": \"training\", \"Algorithm\": \"factorization-machines\"}, \"StartTime\": 1525597303.982039}\n",
      "\u001b[0m\n",
      "\u001b[31m#metrics {\"Metrics\": {\"Max Batches Seen Between Resets\": {\"count\": 1, \"max\": 1, \"sum\": 1.0, \"min\": 1}, \"Number of Batches Since Last Reset\": {\"count\": 1, \"max\": 0, \"sum\": 0.0, \"min\": 0}, \"Number of Records Since Last Reset\": {\"count\": 1, \"max\": 0, \"sum\": 0.0, \"min\": 0}, \"Total Batches Seen\": {\"count\": 1, \"max\": 1, \"sum\": 1.0, \"min\": 1}, \"Total Records Seen\": {\"count\": 1, \"max\": 1000, \"sum\": 1000.0, \"min\": 1000}, \"Max Records Seen Between Resets\": {\"count\": 1, \"max\": 1000, \"sum\": 1000.0, \"min\": 1000}, \"Reset Count\": {\"count\": 1, \"max\": 1, \"sum\": 1.0, \"min\": 1}}, \"EndTime\": 1525597305.723637, \"Dimensions\": {\"Host\": \"algo-1\", \"Meta\": \"init_train_data_iter\", \"Operation\": \"training\", \"Algorithm\": \"factorization-machines\"}, \"StartTime\": 1525597305.723607}\n",
      "\u001b[0m\n",
      "\u001b[31m[05/06/2018 09:01:57 INFO 140448270694208] Epoch[0] Train-accuracy=0.113800\u001b[0m\n",
      "\u001b[31m[05/06/2018 09:01:57 INFO 140448270694208] Epoch[0] Time cost=12.125\u001b[0m\n",
      "\u001b[31m#metrics {\"Metrics\": {\"epochs\": {\"count\": 1, \"max\": 3, \"sum\": 3.0, \"min\": 3}, \"update.time\": {\"count\": 1, \"max\": 12135.091066360474, \"sum\": 12135.091066360474, \"min\": 12135.091066360474}}, \"EndTime\": 1525597317.858993, \"Dimensions\": {\"Host\": \"algo-1\", \"Operation\": \"training\", \"Algorithm\": \"factorization-machines\"}, \"StartTime\": 1525597305.723556}\n",
      "\u001b[0m\n",
      "\u001b[31m[05/06/2018 09:01:57 INFO 140448270694208] #progress_metric: Completed 33 % of epochs\u001b[0m\n",
      "\u001b[31m#metrics {\"Metrics\": {\"Max Batches Seen Between Resets\": {\"count\": 1, \"max\": 10, \"sum\": 10.0, \"min\": 10}, \"Number of Batches Since Last Reset\": {\"count\": 1, \"max\": 0, \"sum\": 0.0, \"min\": 0}, \"Number of Records Since Last Reset\": {\"count\": 1, \"max\": 0, \"sum\": 0.0, \"min\": 0}, \"Total Batches Seen\": {\"count\": 1, \"max\": 11, \"sum\": 11.0, \"min\": 11}, \"Total Records Seen\": {\"count\": 1, \"max\": 11000, \"sum\": 11000.0, \"min\": 11000}, \"Max Records Seen Between Resets\": {\"count\": 1, \"max\": 10000, \"sum\": 10000.0, \"min\": 10000}, \"Reset Count\": {\"count\": 1, \"max\": 3, \"sum\": 3.0, \"min\": 3}}, \"EndTime\": 1525597317.860975, \"Dimensions\": {\"Host\": \"algo-1\", \"Meta\": \"training_data_iter\", \"Operation\": \"training\", \"Algorithm\": \"factorization-machines\", \"epoch\": 0}, \"StartTime\": 1525597317.860882}\n",
      "\u001b[0m\n",
      "\u001b[31m[05/06/2018 09:01:57 WARNING 140448270694208] Already bound, ignoring bind()\u001b[0m\n",
      "\u001b[31m/opt/amazon/lib/python2.7/site-packages/mxnet/module/base_module.py:464: UserWarning: Parameters already initialized and force_init=False. init_params call ignored.\n",
      "  allow_missing=allow_missing, force_init=force_init)\u001b[0m\n",
      "\u001b[31m[05/06/2018 09:01:57 WARNING 140448270694208] optimizer already initialized, ignoring...\u001b[0m\n",
      "\u001b[31m[05/06/2018 09:02:09 INFO 140448270694208] Epoch[0] Train-accuracy=0.113800\u001b[0m\n",
      "\u001b[31m[05/06/2018 09:02:09 INFO 140448270694208] Epoch[0] Time cost=11.738\u001b[0m\n",
      "\u001b[31m#metrics {\"Metrics\": {\"update.time\": {\"count\": 1, \"max\": 11742.32292175293, \"sum\": 11742.32292175293, \"min\": 11742.32292175293}}, \"EndTime\": 1525597329.610759, \"Dimensions\": {\"Host\": \"algo-1\", \"Operation\": \"training\", \"Algorithm\": \"factorization-machines\"}, \"StartTime\": 1525597317.859224}\n",
      "\u001b[0m\n",
      "\u001b[31m[05/06/2018 09:02:09 INFO 140448270694208] #progress_metric: Completed 66 % of epochs\u001b[0m\n",
      "\u001b[31m#metrics {\"Metrics\": {\"Max Batches Seen Between Resets\": {\"count\": 1, \"max\": 10, \"sum\": 10.0, \"min\": 10}, \"Number of Batches Since Last Reset\": {\"count\": 1, \"max\": 0, \"sum\": 0.0, \"min\": 0}, \"Number of Records Since Last Reset\": {\"count\": 1, \"max\": 0, \"sum\": 0.0, \"min\": 0}, \"Total Batches Seen\": {\"count\": 1, \"max\": 21, \"sum\": 21.0, \"min\": 21}, \"Total Records Seen\": {\"count\": 1, \"max\": 21000, \"sum\": 21000.0, \"min\": 21000}, \"Max Records Seen Between Resets\": {\"count\": 1, \"max\": 10000, \"sum\": 10000.0, \"min\": 10000}, \"Reset Count\": {\"count\": 1, \"max\": 5, \"sum\": 5.0, \"min\": 5}}, \"EndTime\": 1525597329.611136, \"Dimensions\": {\"Host\": \"algo-1\", \"Meta\": \"training_data_iter\", \"Operation\": \"training\", \"Algorithm\": \"factorization-machines\", \"epoch\": 1}, \"StartTime\": 1525597329.611105}\n",
      "\u001b[0m\n",
      "\u001b[31m[05/06/2018 09:02:09 WARNING 140448270694208] Already bound, ignoring bind()\u001b[0m\n",
      "\u001b[31m[05/06/2018 09:02:09 WARNING 140448270694208] optimizer already initialized, ignoring...\u001b[0m\n",
      "\u001b[31m[05/06/2018 09:02:21 INFO 140448270694208] Epoch[0] Train-accuracy=0.113800\u001b[0m\n",
      "\u001b[31m[05/06/2018 09:02:21 INFO 140448270694208] Epoch[0] Time cost=11.801\u001b[0m\n",
      "\u001b[31m#metrics {\"Metrics\": {\"update.time\": {\"count\": 1, \"max\": 11801.950931549072, \"sum\": 11801.950931549072, \"min\": 11801.950931549072}}, \"EndTime\": 1525597341.41981, \"Dimensions\": {\"Host\": \"algo-1\", \"Operation\": \"training\", \"Algorithm\": \"factorization-machines\"}, \"StartTime\": 1525597329.610863}\n",
      "\u001b[0m\n",
      "\u001b[31m[05/06/2018 09:02:21 INFO 140448270694208] #progress_metric: Completed 100 % of epochs\u001b[0m\n",
      "\u001b[31m#metrics {\"Metrics\": {\"Max Batches Seen Between Resets\": {\"count\": 1, \"max\": 10, \"sum\": 10.0, \"min\": 10}, \"Number of Batches Since Last Reset\": {\"count\": 1, \"max\": 0, \"sum\": 0.0, \"min\": 0}, \"Number of Records Since Last Reset\": {\"count\": 1, \"max\": 0, \"sum\": 0.0, \"min\": 0}, \"Total Batches Seen\": {\"count\": 1, \"max\": 31, \"sum\": 31.0, \"min\": 31}, \"Total Records Seen\": {\"count\": 1, \"max\": 31000, \"sum\": 31000.0, \"min\": 31000}, \"Max Records Seen Between Resets\": {\"count\": 1, \"max\": 10000, \"sum\": 10000.0, \"min\": 10000}, \"Reset Count\": {\"count\": 1, \"max\": 7, \"sum\": 7.0, \"min\": 7}}, \"EndTime\": 1525597341.420139, \"Dimensions\": {\"Host\": \"algo-1\", \"Meta\": \"training_data_iter\", \"Operation\": \"training\", \"Algorithm\": \"factorization-machines\", \"epoch\": 2}, \"StartTime\": 1525597341.420108}\n",
      "\u001b[0m\n",
      "\u001b[31m[05/06/2018 09:02:21 WARNING 140448270694208] wait_for_all_workers will not sync workers since the kv store is not running distributed\u001b[0m\n",
      "\u001b[31m#metrics {\"Metrics\": {\"finalize.time\": {\"count\": 1, \"max\": 0.029087066650390625, \"sum\": 0.029087066650390625, \"min\": 0.029087066650390625}}, \"EndTime\": 1525597341.420326, \"Dimensions\": {\"Host\": \"algo-1\", \"Operation\": \"training\", \"Algorithm\": \"factorization-machines\"}, \"StartTime\": 1525597341.419898}\n",
      "\u001b[0m\n",
      "\u001b[31m[05/06/2018 09:02:21 INFO 140448270694208] Saved checkpoint to \"/tmp/tmpdul6j1/state-0001.params\"\u001b[0m\n",
      "\u001b[31m[05/06/2018 09:02:21 INFO 140448270694208] Test data was not provided.\u001b[0m\n",
      "\u001b[31m#metrics {\"Metrics\": {\"totaltime\": {\"count\": 1, \"max\": 37860.9881401062, \"sum\": 37860.9881401062, \"min\": 37860.9881401062}, \"setuptime\": {\"count\": 1, \"max\": 27.35614776611328, \"sum\": 27.35614776611328, \"min\": 27.35614776611328}}, \"EndTime\": 1525597341.811848, \"Dimensions\": {\"Host\": \"algo-1\", \"Operation\": \"training\", \"Algorithm\": \"factorization-machines\"}, \"StartTime\": 1525597341.420353}\n",
      "\u001b[0m\n"
     ]
    },
    {
     "name": "stdout",
     "output_type": "stream",
     "text": [
      "===== Job Complete =====\n",
      "Billable seconds: 181\n",
      "CPU times: user 2min 44s, sys: 8.19 s, total: 2min 52s\n",
      "Wall time: 8min 41s\n"
     ]
    }
   ],
   "source": [
    "%%time\n",
    "\n",
    "from sagemaker import FactorizationMachines as FM\n",
    "\n",
    "model_output_path = 's3://{}/{}/output'.format(default_bucket, \"fm\")\n",
    "fm = FM(role=role,\n",
    "        train_instance_count=train_instance_count,\n",
    "        train_instance_type=train_instance_type,\n",
    "        output_path=model_output_path,\n",
    "        num_factors=64,\n",
    "        epochs=3,\n",
    "        predictor_type='regressor')\n",
    "\n",
    "fm.fit(record_data_train, mini_batch_size=1000)\n",
    "\n",
    "# 1000 instances, notebook ml.m4.16xlarge, training instance 1*ml.c5.18xlarge, training dataset only\n",
    "# Billable seconds: 106\n",
    "# CPU times: user 38.7 s, sys: 956 ms, total: 39.7 s\n",
    "# Wall time: 4min 51s\n",
    "\n",
    "# 10000 instances, notebook ml.m4.16xlarge, training instance 1*ml.c5.18xlarge, training dataset only\n",
    "# Billable seconds: 181\n",
    "# CPU times: user 2min 44s, sys: 8.19 s, total: 2min 52s\n",
    "# Wall time: 8min 41s\n",
    "# 50000 instances, notebook ml.m4.16xlarge, training instance 1*ml.c5.18xlarge, training dataset only"
   ]
  },
  {
   "cell_type": "markdown",
   "metadata": {},
   "source": [
    "### Deploy model\n",
    "Now our trained model is stored, and you can actually see this in the Sagmaker console. We can go ahead and deploy this."
   ]
  },
  {
   "cell_type": "code",
   "execution_count": null,
   "metadata": {
    "scrolled": true
   },
   "outputs": [],
   "source": [
    "%%time\n",
    "\n",
    "fm_predictor = fm.deploy(instance_type='ml.c5.2xlarge', initial_instance_count=1)"
   ]
  },
  {
   "cell_type": "markdown",
   "metadata": {},
   "source": [
    "We are going to make requests to our endpoint for prediction. Our data is really sparse (only 2 values in each vector row of 165237), and it doesn't make sense to send matrices that are mostly empty. To solve this problem, we are going to go ahead and create a protobuf serializer to send content in a sparse format is supported by sagemaker.\n",
    "\n",
    "You can see more formats here: https://docs.aws.amazon.com/sagemaker/latest/dg/cdf-inference.html"
   ]
  },
  {
   "cell_type": "code",
   "execution_count": null,
   "metadata": {},
   "outputs": [],
   "source": [
    "fm_predictor.content_type = 'application/x-recordio-protobuf'\n",
    "fm_predictor.serializer = sparse_protobuf_serializer\n",
    "fm_predictor.deserializer = json_deserializer"
   ]
  },
  {
   "cell_type": "markdown",
   "metadata": {},
   "source": [
    "### Run predictions\n",
    "We made a dataset to run prediction earlier in this notebook. Let's go ahead and load that."
   ]
  },
  {
   "cell_type": "code",
   "execution_count": null,
   "metadata": {},
   "outputs": [],
   "source": [
    "X_pred, Y_pred = loadDataset('ratings.shuffled.prediction', lines_prediction , nbFeatures)"
   ]
  },
  {
   "cell_type": "markdown",
   "metadata": {},
   "source": [
    "Let's grab single row and run prediction on it."
   ]
  },
  {
   "cell_type": "code",
   "execution_count": null,
   "metadata": {},
   "outputs": [],
   "source": [
    "fm_result = fm_predictor.predict(X_pred[:1])\n",
    "print(fm_result)\n",
    "true_labels = Y_pred[:1]\n",
    "\n",
    "for l,r in zip(true_labels, fm_result['predictions']):\n",
    "    print(\"TrueLabel:{} PredictedLabel:{} Score:{}\".format(l, int(r['predicted_label']), r['score']))"
   ]
  },
  {
   "cell_type": "markdown",
   "metadata": {},
   "source": [
    "## Validation of training job's accuracy\n",
    "Now that we've sanity checked that, let's just run inference on the entire prediction dataset of 2 million rows. Our feature dimension is wide but our data is mostly sparse, so we should be able to do relatively big batches of inferences. (This will take a couple of minutes)"
   ]
  },
  {
   "cell_type": "code",
   "execution_count": null,
   "metadata": {
    "scrolled": true
   },
   "outputs": [],
   "source": [
    "%%time\n",
    "\n",
    "batch_size = lines_prediction\n",
    "predictions = []\n",
    "\n",
    "batches = int(X_pred.shape[0]/batch_size)\n",
    "\n",
    "for i in range(batches):\n",
    "    X_sample = X_pred[ (i*batch_size) : ((i+1)*batch_size) ]\n",
    "    result = fm_predictor.predict(X_sample)\n",
    "    predictions += [r['predicted_label'] for r in result['predictions']]\n",
    "\n",
    "predictions = np.array(predictions)"
   ]
  },
  {
   "cell_type": "code",
   "execution_count": null,
   "metadata": {},
   "outputs": [],
   "source": [
    "fm_result = fm_predictor.predict(X_pred[1000:1003])\n",
    "print(fm_result)\n",
    "print(Y_pred[1000:1003])"
   ]
  },
  {
   "cell_type": "markdown",
   "metadata": {},
   "source": [
    "Let's see what percentage we recommended correctly. This should be roughly equivalent to our testing metric that was reported during training, but provides independent validation."
   ]
  },
  {
   "cell_type": "code",
   "execution_count": null,
   "metadata": {},
   "outputs": [],
   "source": [
    "predictions[0]\n",
    "np.sum(Y_pred == predictions) / len(Y_pred)"
   ]
  },
  {
   "cell_type": "markdown",
   "metadata": {},
   "source": [
    "# This is a substantial improvement over a naive baseline ... add more here"
   ]
  },
  {
   "cell_type": "markdown",
   "metadata": {},
   "source": [
    "## Clean up, and finish!\n",
    "And we are done!"
   ]
  },
  {
   "cell_type": "code",
   "execution_count": null,
   "metadata": {},
   "outputs": [],
   "source": [
    "#fm.delete_endpoint()"
   ]
  },
  {
   "cell_type": "code",
   "execution_count": null,
   "metadata": {},
   "outputs": [],
   "source": []
  }
 ],
 "metadata": {
  "kernelspec": {
   "display_name": "conda_mxnet_p36",
   "language": "python",
   "name": "conda_mxnet_p36"
  },
  "language_info": {
   "codemirror_mode": {
    "name": "ipython",
    "version": 3
   },
   "file_extension": ".py",
   "mimetype": "text/x-python",
   "name": "python",
   "nbconvert_exporter": "python",
   "pygments_lexer": "ipython3",
   "version": "3.6.4"
  }
 },
 "nbformat": 4,
 "nbformat_minor": 2
}
